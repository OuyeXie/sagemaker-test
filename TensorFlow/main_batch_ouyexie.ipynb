{
 "cells": [
  {
   "cell_type": "code",
   "execution_count": 1,
   "metadata": {},
   "outputs": [],
   "source": [
    "# Set up the environment¶\n",
    "\n",
    "import sagemaker\n",
    "from sagemaker import get_execution_role\n",
    "from sagemaker.session import Session\n",
    "\n",
    "sagemaker_session = sagemaker.Session()\n",
    "region = sagemaker_session.boto_session.region_name\n",
    "\n",
    "role = get_execution_role()"
   ]
  },
  {
   "cell_type": "code",
   "execution_count": 2,
   "metadata": {},
   "outputs": [
    {
     "name": "stdout",
     "output_type": "stream",
     "text": [
      "WARNING:tensorflow:From <ipython-input-2-181bd7295c81>:7: read_data_sets (from tensorflow.contrib.learn.python.learn.datasets.mnist) is deprecated and will be removed in a future version.\n",
      "Instructions for updating:\n",
      "Please use alternatives such as official/mnist/dataset.py from tensorflow/models.\n",
      "WARNING:tensorflow:From /home/ec2-user/anaconda3/envs/tensorflow_p36/lib/python3.6/site-packages/tensorflow/contrib/learn/python/learn/datasets/mnist.py:260: maybe_download (from tensorflow.contrib.learn.python.learn.datasets.base) is deprecated and will be removed in a future version.\n",
      "Instructions for updating:\n",
      "Please write your own downloading logic.\n",
      "WARNING:tensorflow:From /home/ec2-user/anaconda3/envs/tensorflow_p36/lib/python3.6/site-packages/tensorflow/contrib/learn/python/learn/datasets/base.py:252: _internal_retry.<locals>.wrap.<locals>.wrapped_fn (from tensorflow.contrib.learn.python.learn.datasets.base) is deprecated and will be removed in a future version.\n",
      "Instructions for updating:\n",
      "Please use urllib or similar directly.\n",
      "Successfully downloaded train-images-idx3-ubyte.gz 9912422 bytes.\n",
      "WARNING:tensorflow:From /home/ec2-user/anaconda3/envs/tensorflow_p36/lib/python3.6/site-packages/tensorflow/contrib/learn/python/learn/datasets/mnist.py:262: extract_images (from tensorflow.contrib.learn.python.learn.datasets.mnist) is deprecated and will be removed in a future version.\n",
      "Instructions for updating:\n",
      "Please use tf.data to implement this functionality.\n",
      "Extracting data/train-images-idx3-ubyte.gz\n",
      "Successfully downloaded train-labels-idx1-ubyte.gz 28881 bytes.\n",
      "WARNING:tensorflow:From /home/ec2-user/anaconda3/envs/tensorflow_p36/lib/python3.6/site-packages/tensorflow/contrib/learn/python/learn/datasets/mnist.py:267: extract_labels (from tensorflow.contrib.learn.python.learn.datasets.mnist) is deprecated and will be removed in a future version.\n",
      "Instructions for updating:\n",
      "Please use tf.data to implement this functionality.\n",
      "Extracting data/train-labels-idx1-ubyte.gz\n",
      "Successfully downloaded t10k-images-idx3-ubyte.gz 1648877 bytes.\n",
      "Extracting data/t10k-images-idx3-ubyte.gz\n",
      "Successfully downloaded t10k-labels-idx1-ubyte.gz 4542 bytes.\n",
      "Extracting data/t10k-labels-idx1-ubyte.gz\n",
      "WARNING:tensorflow:From /home/ec2-user/anaconda3/envs/tensorflow_p36/lib/python3.6/site-packages/tensorflow/contrib/learn/python/learn/datasets/mnist.py:290: DataSet.__init__ (from tensorflow.contrib.learn.python.learn.datasets.mnist) is deprecated and will be removed in a future version.\n",
      "Instructions for updating:\n",
      "Please use alternatives such as official/mnist/dataset.py from tensorflow/models.\n",
      "Writing data/train.tfrecords\n",
      "WARNING:tensorflow:From /home/ec2-user/SageMaker/sagemaker-test/TensorFlow/utils.py:29: The name tf.python_io.TFRecordWriter is deprecated. Please use tf.io.TFRecordWriter instead.\n",
      "\n",
      "Writing data/validation.tfrecords\n",
      "Writing data/test.tfrecords\n"
     ]
    }
   ],
   "source": [
    "#Download the MNIST dataset¶\n",
    "\n",
    "import utils\n",
    "from tensorflow.contrib.learn.python.learn.datasets import mnist\n",
    "import tensorflow as tf\n",
    "\n",
    "data_sets = mnist.read_data_sets('data', dtype=tf.uint8, reshape=False, validation_size=5000)\n",
    "\n",
    "utils.convert_to(data_sets.train, 'train', 'data')\n",
    "utils.convert_to(data_sets.validation, 'validation', 'data')\n",
    "utils.convert_to(data_sets.test, 'test', 'data')"
   ]
  },
  {
   "cell_type": "code",
   "execution_count": 3,
   "metadata": {},
   "outputs": [],
   "source": [
    "# Upload the data¶\n",
    "\n",
    "inputs = sagemaker_session.upload_data(path='data', key_prefix='data/DEMO-mnist')"
   ]
  },
  {
   "cell_type": "code",
   "execution_count": 4,
   "metadata": {},
   "outputs": [
    {
     "name": "stdout",
     "output_type": "stream",
     "text": [
      "import os\n",
      "import tensorflow as tf\n",
      "from tensorflow.python.estimator.model_fn import ModeKeys as Modes\n",
      "\n",
      "INPUT_TENSOR_NAME = 'inputs'\n",
      "SIGNATURE_NAME = 'predictions'\n",
      "\n",
      "LEARNING_RATE = 0.001\n",
      "\n",
      "\n",
      "def model_fn(features, labels, mode, params):\n",
      "    # Input Layer\n",
      "    input_layer = tf.reshape(features[INPUT_TENSOR_NAME], [-1, 28, 28, 1])\n",
      "\n",
      "    # Convolutional Layer #1\n",
      "    conv1 = tf.layers.conv2d(\n",
      "        inputs=input_layer,\n",
      "        filters=32,\n",
      "        kernel_size=[5, 5],\n",
      "        padding='same',\n",
      "        activation=tf.nn.relu)\n",
      "\n",
      "    # Pooling Layer #1\n",
      "    pool1 = tf.layers.max_pooling2d(inputs=conv1, pool_size=[2, 2], strides=2)\n",
      "\n",
      "    # Convolutional Layer #2 and Pooling Layer #2\n",
      "    conv2 = tf.layers.conv2d(\n",
      "        inputs=pool1,\n",
      "        filters=64,\n",
      "        kernel_size=[5, 5],\n",
      "        padding='same',\n",
      "        activation=tf.nn.relu)\n",
      "    pool2 = tf.layers.max_pooling2d(inputs=conv2, pool_size=[2, 2], strides=2)\n",
      "\n",
      "    # Dense Layer\n",
      "    pool2_flat = tf.reshape(pool2, [-1, 7 * 7 * 64])\n",
      "    dense = tf.layers.dense(inputs=pool2_flat, units=1024, activation=tf.nn.relu)\n",
      "    dropout = tf.layers.dropout(\n",
      "        inputs=dense, rate=0.4, training=(mode == Modes.TRAIN))\n",
      "\n",
      "    # Logits Layer\n",
      "    logits = tf.layers.dense(inputs=dropout, units=10)\n",
      "\n",
      "    # Define operations\n",
      "    if mode in (Modes.PREDICT, Modes.EVAL):\n",
      "        predicted_indices = tf.argmax(input=logits, axis=1)\n",
      "        probabilities = tf.nn.softmax(logits, name='softmax_tensor')\n",
      "\n",
      "    if mode in (Modes.TRAIN, Modes.EVAL):\n",
      "        global_step = tf.train.get_or_create_global_step()\n",
      "        label_indices = tf.cast(labels, tf.int32)\n",
      "        loss = tf.losses.softmax_cross_entropy(\n",
      "            onehot_labels=tf.one_hot(label_indices, depth=10), logits=logits)\n",
      "        tf.summary.scalar('OptimizeLoss', loss)\n",
      "\n",
      "    if mode == Modes.PREDICT:\n",
      "        predictions = {\n",
      "            'classes': predicted_indices,\n",
      "            'probabilities': probabilities\n",
      "        }\n",
      "        export_outputs = {\n",
      "            SIGNATURE_NAME: tf.estimator.export.PredictOutput(predictions)\n",
      "        }\n",
      "        return tf.estimator.EstimatorSpec(\n",
      "            mode, predictions=predictions, export_outputs=export_outputs)\n",
      "\n",
      "    if mode == Modes.TRAIN:\n",
      "        optimizer = tf.train.AdamOptimizer(learning_rate=0.001)\n",
      "        train_op = optimizer.minimize(loss, global_step=global_step)\n",
      "        return tf.estimator.EstimatorSpec(mode, loss=loss, train_op=train_op)\n",
      "\n",
      "    if mode == Modes.EVAL:\n",
      "        eval_metric_ops = {\n",
      "            'accuracy': tf.metrics.accuracy(label_indices, predicted_indices)\n",
      "        }\n",
      "        return tf.estimator.EstimatorSpec(\n",
      "            mode, loss=loss, eval_metric_ops=eval_metric_ops)\n",
      "\n",
      "\n",
      "def serving_input_fn(params):\n",
      "    inputs = {INPUT_TENSOR_NAME: tf.placeholder(tf.float32, [None, 784])}\n",
      "    return tf.estimator.export.ServingInputReceiver(inputs, inputs)\n",
      "\n",
      "\n",
      "def read_and_decode(filename_queue):\n",
      "    reader = tf.TFRecordReader()\n",
      "    _, serialized_example = reader.read(filename_queue)\n",
      "\n",
      "    features = tf.parse_single_example(\n",
      "        serialized_example,\n",
      "        features={\n",
      "            'image_raw': tf.FixedLenFeature([], tf.string),\n",
      "            'label': tf.FixedLenFeature([], tf.int64),\n",
      "        })\n",
      "\n",
      "    image = tf.decode_raw(features['image_raw'], tf.uint8)\n",
      "    image.set_shape([784])\n",
      "    image = tf.cast(image, tf.float32) * (1. / 255)\n",
      "    label = tf.cast(features['label'], tf.int32)\n",
      "\n",
      "    return image, label\n",
      "\n",
      "\n",
      "def train_input_fn(training_dir, params):\n",
      "    return _input_fn(training_dir, 'train.tfrecords', batch_size=100)\n",
      "\n",
      "\n",
      "def eval_input_fn(training_dir, params):\n",
      "    return _input_fn(training_dir, 'test.tfrecords', batch_size=100)\n",
      "\n",
      "\n",
      "def _input_fn(training_dir, training_filename, batch_size=100):\n",
      "    test_file = os.path.join(training_dir, training_filename)\n",
      "    filename_queue = tf.train.string_input_producer([test_file])\n",
      "\n",
      "    image, label = read_and_decode(filename_queue)\n",
      "    images, labels = tf.train.batch(\n",
      "        [image, label], batch_size=batch_size,\n",
      "        capacity=1000 + 3 * batch_size)\n",
      "\n",
      "    return {INPUT_TENSOR_NAME: images}, labels\n",
      "\n",
      "def neo_preprocess(payload, content_type):\n",
      "    import logging\n",
      "    import numpy as np\n",
      "    import io\n",
      "\n",
      "    logging.info('Invoking user-defined pre-processing function')\n",
      "\n",
      "    if content_type != 'application/x-image' and content_type != 'application/vnd+python.numpy+binary':\n",
      "        raise RuntimeError('Content type must be application/x-image or application/vnd+python.numpy+binary')\n",
      "    \n",
      "    f = io.BytesIO(payload)\n",
      "    image = np.load(f)*255\n",
      "\n",
      "    return image\n",
      "\n",
      "### NOTE: this function cannot use MXNet\n",
      "def neo_postprocess(result):\n",
      "    import logging\n",
      "    import numpy as np\n",
      "    import json\n",
      "\n",
      "    logging.info('Invoking user-defined post-processing function')\n",
      "    \n",
      "    # Softmax (assumes batch size 1)\n",
      "    result = np.squeeze(result)\n",
      "    result_exp = np.exp(result - np.max(result))\n",
      "    result = result_exp / np.sum(result_exp)\n",
      "\n",
      "    response_body = json.dumps(result.tolist())\n",
      "    content_type = 'application/json'\n",
      "\n",
      "    return response_body, content_type\n"
     ]
    }
   ],
   "source": [
    "# Construct a script for distributed training\n",
    "\n",
    "!cat 'mnist.py'"
   ]
  },
  {
   "cell_type": "code",
   "execution_count": 6,
   "metadata": {},
   "outputs": [
    {
     "name": "stderr",
     "output_type": "stream",
     "text": [
      "tensorflow py2 container will be deprecated soon.\n"
     ]
    },
    {
     "name": "stdout",
     "output_type": "stream",
     "text": [
      "2019-12-24 00:47:51 Starting - Starting the training job...\n",
      "2019-12-24 00:47:53 Starting - Launching requested ML instances...\n",
      "2019-12-24 00:48:51 Starting - Preparing the instances for training............\n",
      "2019-12-24 00:50:50 Downloading - Downloading input data\n",
      "2019-12-24 00:50:50 Training - Downloading the training image..\u001b[34m2019-12-24 00:51:02,933 INFO - root - running container entrypoint\u001b[0m\n",
      "\u001b[34m2019-12-24 00:51:02,933 INFO - root - starting train task\u001b[0m\n",
      "\u001b[34m2019-12-24 00:51:02,946 INFO - container_support.training - Training starting\u001b[0m\n",
      "\u001b[34mDownloading s3://sagemaker-us-east-2-371990375707/sagemaker-tensorflow-2019-12-24-00-47-51-105/source/sourcedir.tar.gz to /tmp/script.tar.gz\u001b[0m\n",
      "\u001b[34m2019-12-24 00:51:05,743 INFO - tf_container - ----------------------TF_CONFIG--------------------------\u001b[0m\n",
      "\u001b[34m2019-12-24 00:51:05,743 INFO - tf_container - {\"environment\": \"cloud\", \"cluster\": {\"worker\": [\"algo-2:2222\"], \"ps\": [\"algo-1:2223\", \"algo-2:2223\"], \"master\": [\"algo-1:2222\"]}, \"task\": {\"index\": 0, \"type\": \"master\"}}\u001b[0m\n",
      "\u001b[34m2019-12-24 00:51:05,743 INFO - tf_container - ---------------------------------------------------------\u001b[0m\n",
      "\u001b[34m2019-12-24 00:51:05,743 INFO - tf_container - creating RunConfig:\u001b[0m\n",
      "\u001b[34m2019-12-24 00:51:05,744 INFO - tf_container - {'save_checkpoints_secs': 300}\u001b[0m\n",
      "\u001b[34m2019-12-24 00:51:05,744 INFO - tensorflow - TF_CONFIG environment variable: {u'environment': u'cloud', u'cluster': {u'ps': [u'algo-1:2223', u'algo-2:2223'], u'worker': [u'algo-2:2222'], u'master': [u'algo-1:2222']}, u'task': {u'index': 0, u'type': u'master'}}\u001b[0m\n",
      "\u001b[34m2019-12-24 00:51:05,745 INFO - tf_container - creating an estimator from the user-provided model_fn\u001b[0m\n",
      "\u001b[34m2019-12-24 00:51:05,745 INFO - tensorflow - Using config: {'_save_checkpoints_secs': 300, '_keep_checkpoint_max': 5, '_task_type': u'master', '_cluster_spec': <tensorflow.python.training.server_lib.ClusterSpec object at 0x7fdffaf9cfd0>, '_keep_checkpoint_every_n_hours': 10000, '_service': None, '_num_ps_replicas': 2, '_tf_random_seed': None, '_device_fn': None, '_num_worker_replicas': 2, '_task_id': 0, '_log_step_count_steps': 100, '_evaluation_master': '', '_eval_distribute': None, '_train_distribute': None, '_session_config': device_filters: \"/job:ps\"\u001b[0m\n",
      "\u001b[34mdevice_filters: \"/job:master\"\u001b[0m\n",
      "\u001b[34mallow_soft_placement: true\u001b[0m\n",
      "\u001b[34mgraph_options {\n",
      "  rewrite_options {\n",
      "    meta_optimizer_iterations: ONE\n",
      "  }\u001b[0m\n",
      "\u001b[34m}\u001b[0m\n",
      "\u001b[34m, '_global_id_in_cluster': 0, '_is_chief': True, '_protocol': None, '_save_checkpoints_steps': None, '_experimental_distribute': None, '_save_summary_steps': 100, '_model_dir': u's3://sagemaker-us-east-2-371990375707/sagemaker-tensorflow-2019-12-24-00-47-51-105/checkpoints', '_master': u'grpc://algo-1:2222'}\u001b[0m\n",
      "\u001b[34m2019-12-24 00:51:05,747 INFO - tensorflow - Not using Distribute Coordinator.\u001b[0m\n",
      "\u001b[34m2019-12-24 00:51:05,747 INFO - tensorflow - Start Tensorflow server.\u001b[0m\n",
      "\u001b[34m2019-12-24 00:51:05,987 WARNING - tensorflow - From /opt/ml/code/mnist.py:114: string_input_producer (from tensorflow.python.training.input) is deprecated and will be removed in a future version.\u001b[0m\n",
      "\u001b[34mInstructions for updating:\u001b[0m\n",
      "\u001b[34mQueue-based input pipelines have been replaced by `tf.data`. Use `tf.data.Dataset.from_tensor_slices(string_tensor).shuffle(tf.shape(input_tensor, out_type=tf.int64)[0]).repeat(num_epochs)`. If `shuffle=False`, omit the `.shuffle(...)`.\u001b[0m\n",
      "\u001b[34m2019-12-24 00:51:05,997 WARNING - tensorflow - From /usr/local/lib/python2.7/dist-packages/tensorflow/python/training/input.py:276: input_producer (from tensorflow.python.training.input) is deprecated and will be removed in a future version.\u001b[0m\n",
      "\u001b[34mInstructions for updating:\u001b[0m\n",
      "\u001b[34mQueue-based input pipelines have been replaced by `tf.data`. Use `tf.data.Dataset.from_tensor_slices(input_tensor).shuffle(tf.shape(input_tensor, out_type=tf.int64)[0]).repeat(num_epochs)`. If `shuffle=False`, omit the `.shuffle(...)`.\u001b[0m\n",
      "\u001b[34m2019-12-24 00:51:05,998 WARNING - tensorflow - From /usr/local/lib/python2.7/dist-packages/tensorflow/python/training/input.py:188: limit_epochs (from tensorflow.python.training.input) is deprecated and will be removed in a future version.\u001b[0m\n",
      "\u001b[34mInstructions for updating:\u001b[0m\n",
      "\u001b[34mQueue-based input pipelines have been replaced by `tf.data`. Use `tf.data.Dataset.from_tensors(tensor).repeat(num_epochs)`.\u001b[0m\n",
      "\u001b[34m2019-12-24 00:51:06,001 WARNING - tensorflow - From /usr/local/lib/python2.7/dist-packages/tensorflow/python/training/input.py:197: __init__ (from tensorflow.python.training.queue_runner_impl) is deprecated and will be removed in a future version.\u001b[0m\n",
      "\u001b[34mInstructions for updating:\u001b[0m\n",
      "\u001b[34mTo construct input pipelines, use the `tf.data` module.\u001b[0m\n",
      "\u001b[34m2019-12-24 00:51:06,002 WARNING - tensorflow - From /usr/local/lib/python2.7/dist-packages/tensorflow/python/training/input.py:197: add_queue_runner (from tensorflow.python.training.queue_runner_impl) is deprecated and will be removed in a future version.\u001b[0m\n",
      "\u001b[34mInstructions for updating:\u001b[0m\n",
      "\u001b[34mTo construct input pipelines, use the `tf.data` module.\u001b[0m\n",
      "\u001b[34m2019-12-24 00:51:06,007 WARNING - tensorflow - From /opt/ml/code/mnist.py:86: __init__ (from tensorflow.python.ops.io_ops) is deprecated and will be removed in a future version.\u001b[0m\n",
      "\u001b[34mInstructions for updating:\u001b[0m\n",
      "\u001b[34mQueue-based input pipelines have been replaced by `tf.data`. Use `tf.data.TFRecordDataset`.\u001b[0m\n",
      "\u001b[34m2019-12-24 00:51:06,017 WARNING - tensorflow - From /opt/ml/code/mnist.py:119: batch (from tensorflow.python.training.input) is deprecated and will be removed in a future version.\u001b[0m\n",
      "\u001b[34mInstructions for updating:\u001b[0m\n",
      "\u001b[34mQueue-based input pipelines have been replaced by `tf.data`. Use `tf.data.Dataset.batch(batch_size)` (or `padded_batch(...)` if `dynamic_pad=True`).\u001b[0m\n",
      "\u001b[34m2019-12-24 00:51:06,027 INFO - tensorflow - Calling model_fn.\u001b[0m\n",
      "\u001b[34m2019-12-24 00:51:06,337 INFO - tensorflow - Done calling model_fn.\u001b[0m\n",
      "\u001b[34m2019-12-24 00:51:06,339 INFO - tensorflow - Create CheckpointSaverHook.\u001b[0m\n",
      "\u001b[34m2019-12-24 00:51:06,692 INFO - tensorflow - Graph was finalized.\u001b[0m\n",
      "\u001b[34m2019-12-24 00:51:07,041 INFO - tensorflow - Running local_init_op.\u001b[0m\n",
      "\u001b[34m2019-12-24 00:51:07,046 INFO - tensorflow - Done running local_init_op.\u001b[0m\n",
      "\u001b[34m2019-12-24 00:51:07,075 WARNING - tensorflow - From /usr/local/lib/python2.7/dist-packages/tensorflow/python/training/monitored_session.py:804: start_queue_runners (from tensorflow.python.training.queue_runner_impl) is deprecated and will be removed in a future version.\u001b[0m\n",
      "\u001b[34mInstructions for updating:\u001b[0m\n",
      "\u001b[34mTo construct input pipelines, use the `tf.data` module.\u001b[0m\n",
      "\u001b[34m2019-12-24 00:51:07,588 INFO - tensorflow - Saving checkpoints for 0 into s3://sagemaker-us-east-2-371990375707/sagemaker-tensorflow-2019-12-24-00-47-51-105/checkpoints/model.ckpt.\u001b[0m\n",
      "\n",
      "2019-12-24 00:51:03 Training - Training image download completed. Training in progress.\u001b[35m2019-12-24 00:51:03,585 INFO - root - running container entrypoint\u001b[0m\n",
      "\u001b[35m2019-12-24 00:51:03,586 INFO - root - starting train task\u001b[0m\n",
      "\u001b[35m2019-12-24 00:51:03,599 INFO - container_support.training - Training starting\u001b[0m\n",
      "\u001b[35mDownloading s3://sagemaker-us-east-2-371990375707/sagemaker-tensorflow-2019-12-24-00-47-51-105/source/sourcedir.tar.gz to /tmp/script.tar.gz\u001b[0m\n",
      "\u001b[35m2019-12-24 00:51:06,445 INFO - tf_container - ----------------------TF_CONFIG--------------------------\u001b[0m\n",
      "\u001b[35m2019-12-24 00:51:06,445 INFO - tf_container - {\"environment\": \"cloud\", \"cluster\": {\"worker\": [\"algo-2:2222\"], \"ps\": [\"algo-1:2223\", \"algo-2:2223\"], \"master\": [\"algo-1:2222\"]}, \"task\": {\"index\": 0, \"type\": \"worker\"}}\u001b[0m\n",
      "\u001b[35m2019-12-24 00:51:06,445 INFO - tf_container - ---------------------------------------------------------\u001b[0m\n",
      "\u001b[35m2019-12-24 00:51:06,446 INFO - tf_container - creating RunConfig:\u001b[0m\n",
      "\u001b[35m2019-12-24 00:51:06,446 INFO - tf_container - {'save_checkpoints_secs': 300}\u001b[0m\n",
      "\u001b[35m2019-12-24 00:51:06,446 INFO - tensorflow - TF_CONFIG environment variable: {u'environment': u'cloud', u'cluster': {u'ps': [u'algo-1:2223', u'algo-2:2223'], u'worker': [u'algo-2:2222'], u'master': [u'algo-1:2222']}, u'task': {u'index': 0, u'type': u'worker'}}\u001b[0m\n",
      "\u001b[35m2019-12-24 00:51:06,447 INFO - tf_container - creating an estimator from the user-provided model_fn\u001b[0m\n",
      "\u001b[35m2019-12-24 00:51:06,447 INFO - tensorflow - Using config: {'_save_checkpoints_secs': 300, '_keep_checkpoint_max': 5, '_task_type': u'worker', '_cluster_spec': <tensorflow.python.training.server_lib.ClusterSpec object at 0x7ff8a70cefd0>, '_keep_checkpoint_every_n_hours': 10000, '_service': None, '_num_ps_replicas': 2, '_tf_random_seed': None, '_device_fn': None, '_num_worker_replicas': 2, '_task_id': 0, '_log_step_count_steps': 100, '_evaluation_master': '', '_eval_distribute': None, '_train_distribute': None, '_session_config': device_filters: \"/job:ps\"\u001b[0m\n",
      "\u001b[35mdevice_filters: \"/job:worker/task:0\"\u001b[0m\n",
      "\u001b[35mallow_soft_placement: true\u001b[0m\n",
      "\u001b[35mgraph_options {\n",
      "  rewrite_options {\n",
      "    meta_optimizer_iterations: ONE\n",
      "  }\u001b[0m\n",
      "\u001b[35m}\u001b[0m\n",
      "\u001b[35m, '_global_id_in_cluster': 1, '_is_chief': False, '_protocol': None, '_save_checkpoints_steps': None, '_experimental_distribute': None, '_save_summary_steps': 100, '_model_dir': u's3://sagemaker-us-east-2-371990375707/sagemaker-tensorflow-2019-12-24-00-47-51-105/checkpoints', '_master': u'grpc://algo-2:2222'}\u001b[0m\n",
      "\u001b[35m2019-12-24 00:51:06,449 INFO - tensorflow - Not using Distribute Coordinator.\u001b[0m\n",
      "\u001b[35m2019-12-24 00:51:06,449 INFO - tensorflow - Start Tensorflow server.\u001b[0m\n",
      "\u001b[35m2019-12-24 00:51:06,484 INFO - tensorflow - Waiting 5 secs before starting training.\u001b[0m\n",
      "\u001b[34m2019-12-24 00:51:09,829 INFO - tensorflow - loss = 2.2978892, step = 0\u001b[0m\n",
      "\u001b[35m2019-12-24 00:51:11,830 WARNING - tensorflow - From /opt/ml/code/mnist.py:114: string_input_producer (from tensorflow.python.training.input) is deprecated and will be removed in a future version.\u001b[0m\n",
      "\u001b[35mInstructions for updating:\u001b[0m\n",
      "\u001b[35mQueue-based input pipelines have been replaced by `tf.data`. Use `tf.data.Dataset.from_tensor_slices(string_tensor).shuffle(tf.shape(input_tensor, out_type=tf.int64)[0]).repeat(num_epochs)`. If `shuffle=False`, omit the `.shuffle(...)`.\u001b[0m\n",
      "\u001b[35m2019-12-24 00:51:11,837 WARNING - tensorflow - From /usr/local/lib/python2.7/dist-packages/tensorflow/python/training/input.py:276: input_producer (from tensorflow.python.training.input) is deprecated and will be removed in a future version.\u001b[0m\n",
      "\u001b[35mInstructions for updating:\u001b[0m\n",
      "\u001b[35mQueue-based input pipelines have been replaced by `tf.data`. Use `tf.data.Dataset.from_tensor_slices(input_tensor).shuffle(tf.shape(input_tensor, out_type=tf.int64)[0]).repeat(num_epochs)`. If `shuffle=False`, omit the `.shuffle(...)`.\u001b[0m\n",
      "\u001b[35m2019-12-24 00:51:11,838 WARNING - tensorflow - From /usr/local/lib/python2.7/dist-packages/tensorflow/python/training/input.py:188: limit_epochs (from tensorflow.python.training.input) is deprecated and will be removed in a future version.\u001b[0m\n",
      "\u001b[35mInstructions for updating:\u001b[0m\n",
      "\u001b[35mQueue-based input pipelines have been replaced by `tf.data`. Use `tf.data.Dataset.from_tensors(tensor).repeat(num_epochs)`.\u001b[0m\n",
      "\u001b[35m2019-12-24 00:51:11,841 WARNING - tensorflow - From /usr/local/lib/python2.7/dist-packages/tensorflow/python/training/input.py:197: __init__ (from tensorflow.python.training.queue_runner_impl) is deprecated and will be removed in a future version.\u001b[0m\n",
      "\u001b[35mInstructions for updating:\u001b[0m\n",
      "\u001b[35mTo construct input pipelines, use the `tf.data` module.\u001b[0m\n",
      "\u001b[35m2019-12-24 00:51:11,843 WARNING - tensorflow - From /usr/local/lib/python2.7/dist-packages/tensorflow/python/training/input.py:197: add_queue_runner (from tensorflow.python.training.queue_runner_impl) is deprecated and will be removed in a future version.\u001b[0m\n",
      "\u001b[35mInstructions for updating:\u001b[0m\n",
      "\u001b[35mTo construct input pipelines, use the `tf.data` module.\u001b[0m\n",
      "\u001b[35m2019-12-24 00:51:11,847 WARNING - tensorflow - From /opt/ml/code/mnist.py:86: __init__ (from tensorflow.python.ops.io_ops) is deprecated and will be removed in a future version.\u001b[0m\n",
      "\u001b[35mInstructions for updating:\u001b[0m\n",
      "\u001b[35mQueue-based input pipelines have been replaced by `tf.data`. Use `tf.data.TFRecordDataset`.\u001b[0m\n",
      "\u001b[35m2019-12-24 00:51:11,855 WARNING - tensorflow - From /opt/ml/code/mnist.py:119: batch (from tensorflow.python.training.input) is deprecated and will be removed in a future version.\u001b[0m\n",
      "\u001b[35mInstructions for updating:\u001b[0m\n",
      "\u001b[35mQueue-based input pipelines have been replaced by `tf.data`. Use `tf.data.Dataset.batch(batch_size)` (or `padded_batch(...)` if `dynamic_pad=True`).\u001b[0m\n",
      "\u001b[35m2019-12-24 00:51:11,866 INFO - tensorflow - Calling model_fn.\u001b[0m\n",
      "\u001b[35m2019-12-24 00:51:12,197 INFO - tensorflow - Done calling model_fn.\u001b[0m\n",
      "\u001b[35m2019-12-24 00:51:12,199 INFO - tensorflow - Create CheckpointSaverHook.\u001b[0m\n",
      "\u001b[35m2019-12-24 00:51:12,507 INFO - tensorflow - Graph was finalized.\u001b[0m\n",
      "\u001b[35m2019-12-24 00:51:12,595 INFO - tensorflow - Running local_init_op.\u001b[0m\n",
      "\u001b[35m2019-12-24 00:51:12,601 INFO - tensorflow - Done running local_init_op.\u001b[0m\n",
      "\u001b[35m2019-12-24 00:51:12,635 WARNING - tensorflow - From /usr/local/lib/python2.7/dist-packages/tensorflow/python/training/monitored_session.py:804: start_queue_runners (from tensorflow.python.training.queue_runner_impl) is deprecated and will be removed in a future version.\u001b[0m\n",
      "\u001b[35mInstructions for updating:\u001b[0m\n",
      "\u001b[35mTo construct input pipelines, use the `tf.data` module.\u001b[0m\n",
      "\u001b[35m2019-12-24 00:51:13,185 INFO - tensorflow - loss = 0.35690913, step = 25\u001b[0m\n",
      "\u001b[35m2019-12-24 00:51:20,184 INFO - tensorflow - global_step/sec: 14.4943\u001b[0m\n",
      "\u001b[34m2019-12-24 00:51:22,373 INFO - tensorflow - loss = 0.042335093, step = 159 (12.544 sec)\u001b[0m\n",
      "\u001b[35m2019-12-24 00:51:26,997 INFO - tensorflow - global_step/sec: 14.8236\u001b[0m\n",
      "\u001b[35m2019-12-24 00:51:28,545 INFO - tensorflow - loss = 0.023074048, step = 249 (15.360 sec)\u001b[0m\n",
      "\u001b[35m2019-12-24 00:51:34,075 INFO - tensorflow - global_step/sec: 14.4125\u001b[0m\n",
      "\u001b[34m2019-12-24 00:51:35,040 INFO - tensorflow - loss = 0.059529636, step = 344 (12.668 sec)\u001b[0m\n",
      "\u001b[35m2019-12-24 00:51:40,864 INFO - tensorflow - global_step/sec: 14.8761\u001b[0m\n",
      "\u001b[35m2019-12-24 00:51:43,045 INFO - tensorflow - loss = 0.03360737, step = 464 (14.500 sec)\u001b[0m\n",
      "\u001b[34m2019-12-24 00:51:47,614 INFO - tensorflow - loss = 0.02540111, step = 530 (12.574 sec)\u001b[0m\n",
      "\u001b[35m2019-12-24 00:51:47,786 INFO - tensorflow - global_step/sec: 14.7355\u001b[0m\n",
      "\u001b[35m2019-12-24 00:51:54,622 INFO - tensorflow - global_step/sec: 14.9205\u001b[0m\n",
      "\u001b[35m2019-12-24 00:51:57,805 INFO - tensorflow - loss = 0.054063804, step = 681 (14.760 sec)\u001b[0m\n",
      "\u001b[34m2019-12-24 00:52:00,118 INFO - tensorflow - loss = 0.03847832, step = 715 (12.504 sec)\u001b[0m\n",
      "\u001b[35m2019-12-24 00:52:01,617 INFO - tensorflow - global_step/sec: 14.582\u001b[0m\n",
      "\u001b[35m2019-12-24 00:52:08,556 INFO - tensorflow - global_step/sec: 14.6999\u001b[0m\n",
      "\u001b[35m2019-12-24 00:52:12,576 INFO - tensorflow - loss = 0.03776071, step = 898 (14.771 sec)\u001b[0m\n",
      "\u001b[34m2019-12-24 00:52:12,719 INFO - tensorflow - loss = 0.0046073613, step = 901 (12.601 sec)\u001b[0m\n",
      "\u001b[35m2019-12-24 00:52:15,492 INFO - tensorflow - global_step/sec: 14.8503\u001b[0m\n",
      "\u001b[35m2019-12-24 00:52:19,567 INFO - tensorflow - Loss for final step: 0.005920945.\u001b[0m\n",
      "\u001b[34m2019-12-24 00:52:19,391 INFO - tensorflow - Saving checkpoints for 1001 into s3://sagemaker-us-east-2-371990375707/sagemaker-tensorflow-2019-12-24-00-47-51-105/checkpoints/model.ckpt.\u001b[0m\n",
      "\u001b[34m2019-12-24 00:52:21,190 INFO - tensorflow - Calling model_fn.\u001b[0m\n",
      "\u001b[34m2019-12-24 00:52:21,301 INFO - tensorflow - Done calling model_fn.\u001b[0m\n",
      "\u001b[34m2019-12-24 00:52:21,319 INFO - tensorflow - Starting evaluation at 2019-12-24-00:52:21\u001b[0m\n",
      "\u001b[34m2019-12-24 00:52:21,392 INFO - tensorflow - Graph was finalized.\u001b[0m\n",
      "\u001b[34m2019-12-24 00:52:21,438 INFO - tensorflow - Restoring parameters from s3://sagemaker-us-east-2-371990375707/sagemaker-tensorflow-2019-12-24-00-47-51-105/checkpoints/model.ckpt-1001\u001b[0m\n",
      "\u001b[34m2019-12-24 00:52:21,727 INFO - tensorflow - Running local_init_op.\u001b[0m\n",
      "\u001b[34m2019-12-24 00:52:21,736 INFO - tensorflow - Done running local_init_op.\u001b[0m\n",
      "\u001b[34m2019-12-24 00:52:22,322 INFO - tensorflow - Evaluation [10/100]\u001b[0m\n",
      "\u001b[34m2019-12-24 00:52:22,770 INFO - tensorflow - Evaluation [20/100]\u001b[0m\n",
      "\u001b[34m2019-12-24 00:52:23,211 INFO - tensorflow - Evaluation [30/100]\u001b[0m\n",
      "\u001b[34m2019-12-24 00:52:23,656 INFO - tensorflow - Evaluation [40/100]\u001b[0m\n",
      "\u001b[34m2019-12-24 00:52:24,104 INFO - tensorflow - Evaluation [50/100]\u001b[0m\n",
      "\u001b[34m2019-12-24 00:52:24,542 INFO - tensorflow - Evaluation [60/100]\u001b[0m\n",
      "\u001b[34m2019-12-24 00:52:24,987 INFO - tensorflow - Evaluation [70/100]\u001b[0m\n",
      "\u001b[34m2019-12-24 00:52:25,433 INFO - tensorflow - Evaluation [80/100]\u001b[0m\n",
      "\u001b[34m2019-12-24 00:52:25,874 INFO - tensorflow - Evaluation [90/100]\u001b[0m\n",
      "\u001b[34m2019-12-24 00:52:26,327 INFO - tensorflow - Evaluation [100/100]\u001b[0m\n",
      "\u001b[34m2019-12-24 00:52:26,355 INFO - tensorflow - Finished evaluation at 2019-12-24-00:52:26\u001b[0m\n",
      "\u001b[34m2019-12-24 00:52:26,355 INFO - tensorflow - Saving dict for global step 1001: accuracy = 0.9886, global_step = 1001, loss = 0.032463003\u001b[0m\n",
      "\u001b[34m2019-12-24 00:52:26,642 INFO - tensorflow - Saving 'checkpoint_path' summary for global step 1001: s3://sagemaker-us-east-2-371990375707/sagemaker-tensorflow-2019-12-24-00-47-51-105/checkpoints/model.ckpt-1001\u001b[0m\n",
      "\u001b[34m2019-12-24 00:52:26,894 INFO - tensorflow - Calling model_fn.\u001b[0m\n",
      "\u001b[34m2019-12-24 00:52:26,953 INFO - tensorflow - Done calling model_fn.\u001b[0m\n",
      "\u001b[34m2019-12-24 00:52:26,953 INFO - tensorflow - Signatures INCLUDED in export for Eval: None\u001b[0m\n",
      "\u001b[34m2019-12-24 00:52:26,953 INFO - tensorflow - Signatures INCLUDED in export for Classify: None\u001b[0m\n",
      "\u001b[34m2019-12-24 00:52:26,953 INFO - tensorflow - Signatures INCLUDED in export for Regress: None\u001b[0m\n",
      "\u001b[34m2019-12-24 00:52:26,954 INFO - tensorflow - Signatures INCLUDED in export for Predict: ['serving_default', 'predictions']\u001b[0m\n",
      "\u001b[34m2019-12-24 00:52:26,954 INFO - tensorflow - Signatures INCLUDED in export for Train: None\u001b[0m\n",
      "\u001b[34m2019-12-24 00:52:27,020 INFO - tensorflow - Restoring parameters from s3://sagemaker-us-east-2-371990375707/sagemaker-tensorflow-2019-12-24-00-47-51-105/checkpoints/model.ckpt-1001\u001b[0m\n",
      "\u001b[34m2019-12-24 00:52:27,288 WARNING - tensorflow - From /usr/local/lib/python2.7/dist-packages/tensorflow/python/estimator/estimator.py:1046: calling add_meta_graph_and_variables (from tensorflow.python.saved_model.builder_impl) with legacy_init_op is deprecated and will be removed in a future version.\u001b[0m\n",
      "\u001b[34mInstructions for updating:\u001b[0m\n",
      "\u001b[34mPass your op to the equivalent parameter main_op instead.\u001b[0m\n",
      "\u001b[34m2019-12-24 00:52:27,288 INFO - tensorflow - Assets added to graph.\u001b[0m\n",
      "\u001b[34m2019-12-24 00:52:27,288 INFO - tensorflow - No assets to write.\u001b[0m\n",
      "\u001b[34m2019-12-24 00:52:28,231 INFO - tensorflow - SavedModel written to: s3://sagemaker-us-east-2-371990375707/sagemaker-tensorflow-2019-12-24-00-47-51-105/checkpoints/export/Servo/1577148746/saved_model.pb\u001b[0m\n",
      "\u001b[34m2019-12-24 00:52:28,303 INFO - tensorflow - Loss for final step: 0.040664304.\u001b[0m\n",
      "\u001b[34m2019-12-24 00:52:28,599 INFO - tf_container - Downloaded saved model at /opt/ml/model/export/Servo/1577148746\u001b[0m\n",
      "\u001b[35m2019-12-24 00:52:29,721 INFO - tf_container - master algo-1 is down, stopping parameter server\u001b[0m\n",
      "\n",
      "2019-12-24 00:52:38 Uploading - Uploading generated training model\n",
      "2019-12-24 00:52:38 Completed - Training job completed\n",
      "Training seconds: 268\n",
      "Billable seconds: 268\n"
     ]
    }
   ],
   "source": [
    "# Create an estimator\n",
    "\n",
    "from sagemaker.tensorflow import TensorFlow\n",
    "\n",
    "mnist_estimator = TensorFlow(entry_point='mnist.py',\n",
    "                             role=role,\n",
    "                             framework_version='1.12.0',\n",
    "                             training_steps=1000, \n",
    "                             evaluation_steps=100,\n",
    "                             train_instance_count=2,\n",
    "                             train_instance_type='ml.c4.xlarge')\n",
    "\n",
    "mnist_estimator.fit(inputs)"
   ]
  },
  {
   "cell_type": "code",
   "execution_count": 7,
   "metadata": {},
   "outputs": [
    {
     "name": "stderr",
     "output_type": "stream",
     "text": [
      "The Python 2 tensorflow images will be soon deprecated and may not be supported for newer upcoming versions of the tensorflow images.\n",
      "Please set the argument \"py_version='py3'\" to use the Python 3 tensorflow image.\n"
     ]
    }
   ],
   "source": [
    "# SageMaker's transformer class\n",
    "\n",
    "transformer = mnist_estimator.transformer(instance_count=1, instance_type='ml.m4.xlarge')"
   ]
  },
  {
   "cell_type": "code",
   "execution_count": null,
   "metadata": {},
   "outputs": [
    {
     "name": "stdout",
     "output_type": "stream",
     "text": [
      "............."
     ]
    }
   ],
   "source": [
    "# Run a batch transform job\n",
    "\n",
    "input_bucket_name = 'sagemaker-sample-data-{}'.format(region)\n",
    "input_file_path = 'batch-transform/mnist-1000-samples'\n",
    "\n",
    "transformer.transform('s3://{}/{}'.format(input_bucket_name, input_file_path), content_type='text/csv')\n",
    "\n",
    "transformer.wait()"
   ]
  },
  {
   "cell_type": "code",
   "execution_count": 9,
   "metadata": {},
   "outputs": [
    {
     "name": "stdout",
     "output_type": "stream",
     "text": [
      "s3://sagemaker-us-east-2-371990375707/sagemaker-tensorflow-2019-12-24-00-47-5-2019-12-24-00-53-17-099\n"
     ]
    }
   ],
   "source": [
    "# Download the results\n",
    "\n",
    "print(transformer.output_path)\n",
    "\n",
    "# Now let's download the first ten results from S3:\n",
    "\n",
    "import json\n",
    "from six.moves.urllib import parse\n",
    "\n",
    "import boto3\n",
    "\n",
    "parsed_url = parse.urlparse(transformer.output_path)\n",
    "bucket_name = parsed_url.netloc\n",
    "prefix = parsed_url.path[1:]\n",
    "\n",
    "s3 = boto3.resource('s3')\n",
    "\n",
    "predictions = []\n",
    "for i in range(10):\n",
    "    file_key = '{}/data-{}.csv.out'.format(prefix, i)\n",
    "\n",
    "    output_obj = s3.Object(bucket_name, file_key)\n",
    "    output = output_obj.get()[\"Body\"].read().decode('utf-8')\n",
    "\n",
    "    predictions.extend(json.loads(output)['outputs']['classes']['int64Val'])"
   ]
  },
  {
   "cell_type": "code",
   "execution_count": 11,
   "metadata": {},
   "outputs": [
    {
     "name": "stdout",
     "output_type": "stream",
     "text": [
      "7, 2, 1, 0, 4, 1, 4, 9, 5, 9\n"
     ]
    },
    {
     "data": {
      "image/png": "[encoded data removed]",
      "text/plain": [
       "<Figure size 144x720 with 1 Axes>"
      ]
     },
     "metadata": {},
     "output_type": "display_data"
    },
    {
     "data": {
      "image/png": "[encoded data removed]",
      "text/plain": [
       "<Figure size 144x720 with 1 Axes>"
      ]
     },
     "metadata": {},
     "output_type": "display_data"
    },
    {
     "data": {
      "image/png": "[encoded data removed]",
      "text/plain": [
       "<Figure size 144x720 with 1 Axes>"
      ]
     },
     "metadata": {},
     "output_type": "display_data"
    },
    {
     "data": {
      "image/png": "[encoded data removed]",
      "text/plain": [
       "<Figure size 144x720 with 1 Axes>"
      ]
     },
     "metadata": {},
     "output_type": "display_data"
    },
    {
     "data": {
      "image/png": "[encoded data removed]",
      "text/plain": [
       "<Figure size 144x720 with 1 Axes>"
      ]
     },
     "metadata": {},
     "output_type": "display_data"
    },
    {
     "data": {
      "image/png": "[encoded data removed]",
      "text/plain": [
       "<Figure size 144x720 with 1 Axes>"
      ]
     },
     "metadata": {},
     "output_type": "display_data"
    },
    {
     "data": {
      "image/png": "[encoded data removed]",
      "text/plain": [
       "<Figure size 144x720 with 1 Axes>"
      ]
     },
     "metadata": {},
     "output_type": "display_data"
    },
    {
     "data": {
      "image/png": "[encoded data removed]",
      "text/plain": [
       "<Figure size 144x720 with 1 Axes>"
      ]
     },
     "metadata": {},
     "output_type": "display_data"
    },
    {
     "data": {
      "image/png": "[encoded data removed]",
      "text/plain": [
       "<Figure size 144x720 with 1 Axes>"
      ]
     },
     "metadata": {},
     "output_type": "display_data"
    },
    {
     "data": {
      "image/png": "[encoded data removed]",
      "text/plain": [
       "<Figure size 144x720 with 1 Axes>"
      ]
     },
     "metadata": {},
     "output_type": "display_data"
    }
   ],
   "source": [
    "# For demonstration purposes, we're also going to download the corresponding original input data so that we can see how the model did with its predictions.\n",
    "\n",
    "import os\n",
    "\n",
    "import matplotlib.pyplot as plt\n",
    "from numpy import genfromtxt\n",
    "\n",
    "plt.rcParams['figure.figsize'] = (2,10)\n",
    "\n",
    "def show_digit(img, caption='', subplot=None):\n",
    "    if subplot == None:\n",
    "        _,(subplot) = plt.subplots(1,1)\n",
    "    imgr = img.reshape((28,28))\n",
    "    subplot.axis('off')\n",
    "    subplot.imshow(imgr, cmap='gray')\n",
    "    plt.title(caption)\n",
    "\n",
    "tmp_dir = '/tmp/data'\n",
    "if not os.path.exists(tmp_dir):\n",
    "    os.makedirs(tmp_dir)\n",
    "\n",
    "for i in range(10):\n",
    "    input_file_name = 'data-{}.csv'.format(i)\n",
    "    input_file_key = '{}/{}'.format(input_file_path, input_file_name)\n",
    "    \n",
    "    s3.Bucket(input_bucket_name).download_file(input_file_key, os.path.join(tmp_dir, input_file_name))\n",
    "    input_data = genfromtxt(os.path.join(tmp_dir, input_file_name), delimiter=',')\n",
    "\n",
    "    show_digit(input_data)\n",
    "    \n",
    "\n",
    "print(', '.join(predictions))"
   ]
  },
  {
   "cell_type": "code",
   "execution_count": null,
   "metadata": {},
   "outputs": [],
   "source": []
  }
 ],
 "metadata": {
  "kernelspec": {
   "display_name": "conda_tensorflow_p36",
   "language": "python",
   "name": "conda_tensorflow_p36"
  },
  "language_info": {
   "codemirror_mode": {
    "name": "ipython",
    "version": 3
   },
   "file_extension": ".py",
   "mimetype": "text/x-python",
   "name": "python",
   "nbconvert_exporter": "python",
   "pygments_lexer": "ipython3",
   "version": "3.6.5"
  }
 },
 "nbformat": 4,
 "nbformat_minor": 4
}
